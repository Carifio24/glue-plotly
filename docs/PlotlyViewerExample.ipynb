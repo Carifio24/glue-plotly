{
 "cells": [
  {
   "cell_type": "markdown",
   "id": "d5103242-a264-4f98-a168-ab40087f8c0c",
   "metadata": {},
   "source": [
    "# Plotly Viewer Examples\n",
    "This notebook contains examples of how to use the viewers provided by the `glue-plotly` package"
   ]
  },
  {
   "cell_type": "markdown",
   "id": "9101e7af-1a3a-4152-b43f-829c52a3d166",
   "metadata": {},
   "source": [
    "### Imports"
   ]
  },
  {
   "cell_type": "code",
   "execution_count": 1,
   "id": "75a31f1b-a32a-42ba-a016-f324faa9f3a7",
   "metadata": {},
   "outputs": [],
   "source": [
    "from glue.core import Data\n",
    "from glue_jupyter import jglue\n",
    "from glue_plotly.viewers.histogram.viewer import PlotlyHistogramView\n",
    "from glue_plotly.viewers.scatter.viewer import PlotlyScatterView"
   ]
  },
  {
   "cell_type": "markdown",
   "id": "c015dc70-746f-415b-853f-c31ea92cff67",
   "metadata": {},
   "source": [
    "Create a glue-jupyter application and session"
   ]
  },
  {
   "cell_type": "code",
   "execution_count": 2,
   "id": "0746adc6-dbe1-4f85-8690-da24458667c0",
   "metadata": {},
   "outputs": [
    {
     "name": "stdout",
     "output_type": "stream",
     "text": [
      "['ipyvolume:lasso', 'ipyvolume:circle', 'ipyvolume:rectangle']\n"
     ]
    },
    {
     "name": "stderr",
     "output_type": "stream",
     "text": [
      "/home/jon/opt/mambaforge/envs/glue-plotly/lib/python3.11/site-packages/glue_qt/viewers/common/tool.py:5: UserWarning:\n",
      "\n",
      "glue.viewers.common.tool is deprecated, use glue.viewers.common.tool instead\n",
      "\n"
     ]
    }
   ],
   "source": [
    "app = jglue()\n",
    "session = app.session\n",
    "dc = app.session.data_collection"
   ]
  },
  {
   "cell_type": "markdown",
   "id": "7d6adbc6-93b8-4a0e-8505-83ef23fb2f6b",
   "metadata": {},
   "source": [
    "Create some random data to use, and do a bit of styling"
   ]
  },
  {
   "cell_type": "code",
   "execution_count": 23,
   "id": "95d749da-73c8-432a-9a23-85d37e1b6fb5",
   "metadata": {},
   "outputs": [],
   "source": [
    "from random import randint\n",
    "x = [randint(0, 100) for _ in range(100)]\n",
    "y = [randint(300, 400) for _ in range(100)]\n",
    "data = app.load_data(\"~/dev/glue/data/airplane/planes_truncated.csv\")\n",
    "dc.append(data)\n",
    "data.style.color = \"#0000ff\"\n",
    "data.style.markersize = 6"
   ]
  },
  {
   "cell_type": "code",
   "execution_count": 4,
   "id": "92745ee0-25bf-455a-b022-045059fa8e19",
   "metadata": {},
   "outputs": [],
   "source": [
    "x2 = [randint(0, 100) for _ in range(100)]\n",
    "y2 = [randint(300, 400) for _ in range(100)]\n",
    "data2 = Data(label='data2', x=x2, y=y2)\n",
    "dc.append(data2)\n",
    "app.add_link(data, 'x', data2, 'x')\n",
    "app.add_link(data, 'y', data2, 'y')\n",
    "data.style.color = \"#0000ff\"\n",
    "data.style.markersize = 6"
   ]
  },
  {
   "cell_type": "markdown",
   "id": "2c520488-472c-4c43-8f29-3ae91fe41c13",
   "metadata": {},
   "source": [
    "### Create a Plotly Scatter Viewer"
   ]
  },
  {
   "cell_type": "code",
   "execution_count": 27,
   "id": "cf42768e-6d31-4375-90ee-facd8d19800a",
   "metadata": {},
   "outputs": [
    {
     "data": {
      "application/vnd.jupyter.widget-view+json": {
       "model_id": "a086592611844e8d94a1c6623d35cb5a",
       "version_major": 2,
       "version_minor": 0
      },
      "text/plain": [
       "LayoutWidget(controls={'toolbar_selection_tools': BasicJupyterToolbar(template=Template(template='<template>\\n…"
      ]
     },
     "metadata": {},
     "output_type": "display_data"
    }
   ],
   "source": [
    "scatter_viewer = app.new_data_viewer(\"plotly_scatter\", data=data)\n",
    "# Alternatively, you can use the viewer class:\n",
    "# viewer = app.new_data_viewer(PlotlyScatterView, data=data)"
   ]
  },
  {
   "cell_type": "code",
   "execution_count": 28,
   "id": "d94774d4-3a68-4b7a-b7f2-7e79afead2b5",
   "metadata": {},
   "outputs": [],
   "source": [
    "scatter_viewer.state.x_axislabel = \"Longitude\"\n",
    "scatter_viewer.state.y_axislabel = \"Latitude\"\n",
    "scatter_viewer.figure.layout.width = 900"
   ]
  },
  {
   "cell_type": "code",
   "execution_count": 7,
   "id": "1355c76d-ad3d-4202-a08f-ee17b1facbd4",
   "metadata": {},
   "outputs": [
    {
     "data": {
      "text/plain": [
       "(PlotlyScatterLayerArtist for My Data, PlotlyScatterLayerArtist for data2)"
      ]
     },
     "execution_count": 7,
     "metadata": {},
     "output_type": "execute_result"
    }
   ],
   "source": [
    "scatter_viewer.layers"
   ]
  },
  {
   "cell_type": "markdown",
   "id": "143236d3-446b-4286-b24c-a9511204b970",
   "metadata": {},
   "source": [
    "### Create a Plotly Histogram Viewer"
   ]
  },
  {
   "cell_type": "code",
   "execution_count": 8,
   "id": "da0a70ee-f299-47cd-9eb0-9a634d983c02",
   "metadata": {},
   "outputs": [
    {
     "data": {
      "text/plain": [
       "2"
      ]
     },
     "execution_count": 8,
     "metadata": {},
     "output_type": "execute_result"
    }
   ],
   "source": [
    "scatter_viewer.layers[1].state.zorder"
   ]
  },
  {
   "cell_type": "code",
   "execution_count": 9,
   "id": "3e66be74-929f-4cfa-910c-9d3b65b4ac91",
   "metadata": {},
   "outputs": [
    {
     "data": {
      "application/vnd.jupyter.widget-view+json": {
       "model_id": "e72117c63af0431a91224959cfdbf10b",
       "version_major": 2,
       "version_minor": 0
      },
      "text/plain": [
       "LayoutWidget(controls={'toolbar_selection_tools': BasicJupyterToolbar(template=Template(template='<template>\\n…"
      ]
     },
     "metadata": {},
     "output_type": "display_data"
    }
   ],
   "source": [
    "histogram_viewer = app.new_data_viewer(\"plotly_histogram\", data=data)\n",
    "# Alternatively, you can use the viewer class:\n",
    "# viewer = app.new_data_viewer(PlotlyHistogramView, data=data)"
   ]
  },
  {
   "cell_type": "markdown",
   "id": "26be6106-c61a-4d84-82e3-136ccfcee588",
   "metadata": {},
   "source": [
    "You can adjust whether there are gaps between the bars and, if so, what fraction of the plot they occupy"
   ]
  },
  {
   "cell_type": "code",
   "execution_count": 16,
   "id": "821b6397-80e2-443c-b6c3-50bf954abbf2",
   "metadata": {},
   "outputs": [],
   "source": [
    "histogram_viewer.state.gaps = True\n",
    "histogram_viewer.state.gap_fraction = 0.13\n",
    "histogram_viewer.state.x_axislabel = \"Value\"\n",
    "histogram_viewer.figure.layout.width = 900"
   ]
  },
  {
   "cell_type": "markdown",
   "id": "588347a7-8f4d-4f47-9838-a4a2e4106b02",
   "metadata": {},
   "source": [
    "### Dotplot Viewer\n",
    "`glue-plotly` provides an alternate layer artist for the histogram viewer that displays data as a dotplot. While we don't offer a built-in viewer that uses this functionality, you can use the simple implementation below as a starting point if you're interested in using dotplots."
   ]
  },
  {
   "cell_type": "code",
   "execution_count": 11,
   "id": "4f9d9ffe-ec2e-4d7f-aa8b-8b2a7524b9c2",
   "metadata": {},
   "outputs": [],
   "source": [
    "from glue_plotly.viewers.histogram.dotplot_layer_artist import PlotlyDotplotLayerArtist\n",
    "\n",
    "class DotplotViewer(PlotlyHistogramView):\n",
    "\n",
    "    _data_artist_cls = PlotlyDotplotLayerArtist\n",
    "    _subset_artist_cls = PlotlyDotplotLayerArtist"
   ]
  },
  {
   "cell_type": "code",
   "execution_count": 12,
   "id": "174cd945-0744-43dc-b23e-bcef244a0bff",
   "metadata": {},
   "outputs": [
    {
     "data": {
      "application/vnd.jupyter.widget-view+json": {
       "model_id": "4aef2c287aca4be08ac525f96db1510e",
       "version_major": 2,
       "version_minor": 0
      },
      "text/plain": [
       "LayoutWidget(controls={'toolbar_selection_tools': BasicJupyterToolbar(template=Template(template='<template>\\n…"
      ]
     },
     "metadata": {},
     "output_type": "display_data"
    }
   ],
   "source": [
    "dotplot_viewer = app.new_data_viewer(DotplotViewer, data=data)"
   ]
  },
  {
   "cell_type": "code",
   "execution_count": null,
   "id": "26492697-440b-4df0-9624-a6cd3637f1cb",
   "metadata": {},
   "outputs": [],
   "source": []
  }
 ],
 "metadata": {
  "kernelspec": {
   "display_name": "glue-plotly",
   "language": "python",
   "name": "glue-plotly"
  },
  "language_info": {
   "codemirror_mode": {
    "name": "ipython",
    "version": 3
   },
   "file_extension": ".py",
   "mimetype": "text/x-python",
   "name": "python",
   "nbconvert_exporter": "python",
   "pygments_lexer": "ipython3",
   "version": "3.11.4"
  }
 },
 "nbformat": 4,
 "nbformat_minor": 5
}
