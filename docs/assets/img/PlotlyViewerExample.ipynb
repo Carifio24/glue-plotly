{
 "cells": [
  {
   "cell_type": "markdown",
   "id": "d5103242-a264-4f98-a168-ab40087f8c0c",
   "metadata": {},
   "source": [
    "# Plotly Viewer Examples\n",
    "This notebook contains examples of how to use the viewers provided by the `glue-plotly` package"
   ]
  },
  {
   "cell_type": "markdown",
   "id": "9101e7af-1a3a-4152-b43f-829c52a3d166",
   "metadata": {},
   "source": [
    "### Imports"
   ]
  },
  {
   "cell_type": "code",
   "execution_count": 1,
   "id": "75a31f1b-a32a-42ba-a016-f324faa9f3a7",
   "metadata": {},
   "outputs": [],
   "source": [
    "from glue.core import Data\n",
    "from glue_jupyter import jglue\n",
    "from glue_plotly.viewers.histogram.viewer import PlotlyHistogramView\n",
    "from glue_plotly.viewers.scatter.viewer import PlotlyScatterView"
   ]
  },
  {
   "cell_type": "markdown",
   "id": "c015dc70-746f-415b-853f-c31ea92cff67",
   "metadata": {},
   "source": [
    "Create a glue-jupyter application and session"
   ]
  },
  {
   "cell_type": "code",
   "execution_count": 2,
   "id": "0746adc6-dbe1-4f85-8690-da24458667c0",
   "metadata": {},
   "outputs": [],
   "source": [
    "app = jglue()\n",
    "session = app.session\n",
    "dc = app.session.data_collection"
   ]
  },
  {
   "cell_type": "markdown",
   "id": "7d6adbc6-93b8-4a0e-8505-83ef23fb2f6b",
   "metadata": {},
   "source": [
    "Create some random data to use, and do a bit of styling"
   ]
  },
  {
   "cell_type": "code",
   "execution_count": 3,
   "id": "95d749da-73c8-432a-9a23-85d37e1b6fb5",
   "metadata": {},
   "outputs": [],
   "source": [
    "from random import randint\n",
    "x = [randint(0, 100) for _ in range(100)]\n",
    "y = [randint(300, 400) for _ in range(100)]\n",
    "data = Data(label='data', x=x, y=y)\n",
    "dc.append(data)\n",
    "data.style.color = \"#0000ff\"\n",
    "data.style.markersize = 6"
   ]
  },
  {
   "cell_type": "code",
   "execution_count": 4,
   "id": "92745ee0-25bf-455a-b022-045059fa8e19",
   "metadata": {},
   "outputs": [],
   "source": [
    "x2 = [randint(0, 100) for _ in range(100)]\n",
    "y2 = [randint(300, 400) for _ in range(100)]\n",
    "data2 = Data(label='data2', x=x2, y=y2)\n",
    "dc.append(data2)\n",
    "app.add_link(data, 'x', data2, 'x')\n",
    "app.add_link(data, 'y', data2, 'y')\n",
    "data.style.color = \"#0000ff\"\n",
    "data.style.markersize = 6"
   ]
  },
  {
   "cell_type": "markdown",
   "id": "2c520488-472c-4c43-8f29-3ae91fe41c13",
   "metadata": {},
   "source": [
    "### Create a Plotly Scatter Viewer"
   ]
  },
  {
   "cell_type": "code",
   "execution_count": 5,
   "id": "cf42768e-6d31-4375-90ee-facd8d19800a",
   "metadata": {},
   "outputs": [
    {
     "data": {
      "application/vnd.jupyter.widget-view+json": {
       "model_id": "29dfa73fb7554c97a66b58cd2cafee9d",
       "version_major": 2,
       "version_minor": 0
      },
      "text/plain": [
       "LayoutWidget(controls={'toolbar_selection_tools': BasicJupyterToolbar(template=Template(template='<template>\\n…"
      ]
     },
     "metadata": {},
     "output_type": "display_data"
    }
   ],
   "source": [
    "scatter_viewer = app.new_data_viewer(\"plotly_scatter\", data=data)\n",
    "# Alternatively, you can use the viewer class:\n",
    "# viewer = app.new_data_viewer(PlotlyScatterView, data=data)"
   ]
  },
  {
   "cell_type": "code",
   "execution_count": 6,
   "id": "cbeeb763-daf0-4828-8535-f05f97ec856f",
   "metadata": {},
   "outputs": [
    {
     "data": {
      "text/plain": [
       "True"
      ]
     },
     "execution_count": 6,
     "metadata": {},
     "output_type": "execute_result"
    }
   ],
   "source": [
    "scatter_viewer.add_data(data2)"
   ]
  },
  {
   "cell_type": "code",
   "execution_count": 7,
   "id": "1355c76d-ad3d-4202-a08f-ee17b1facbd4",
   "metadata": {},
   "outputs": [
    {
     "data": {
      "text/plain": [
       "(PlotlyScatterLayerArtist for data, PlotlyScatterLayerArtist for data2)"
      ]
     },
     "execution_count": 7,
     "metadata": {},
     "output_type": "execute_result"
    }
   ],
   "source": [
    "scatter_viewer.layers"
   ]
  },
  {
   "cell_type": "markdown",
   "id": "143236d3-446b-4286-b24c-a9511204b970",
   "metadata": {},
   "source": [
    "### Create a Plotly Histogram Viewer"
   ]
  },
  {
   "cell_type": "code",
   "execution_count": 8,
   "id": "da0a70ee-f299-47cd-9eb0-9a634d983c02",
   "metadata": {},
   "outputs": [
    {
     "data": {
      "text/plain": [
       "2"
      ]
     },
     "execution_count": 8,
     "metadata": {},
     "output_type": "execute_result"
    }
   ],
   "source": [
    "scatter_viewer.layers[1].state.zorder"
   ]
  },
  {
   "cell_type": "code",
   "execution_count": 9,
   "id": "3e66be74-929f-4cfa-910c-9d3b65b4ac91",
   "metadata": {},
   "outputs": [
    {
     "data": {
      "application/vnd.jupyter.widget-view+json": {
       "model_id": "7ea50b1df9e445f9a1411deb973b0a2d",
       "version_major": 2,
       "version_minor": 0
      },
      "text/plain": [
       "LayoutWidget(controls={'toolbar_selection_tools': BasicJupyterToolbar(template=Template(template='<template>\\n…"
      ]
     },
     "metadata": {},
     "output_type": "display_data"
    }
   ],
   "source": [
    "histogram_viewer = app.new_data_viewer(\"plotly_histogram\", data=data)\n",
    "# Alternatively, you can use the viewer class:\n",
    "# viewer = app.new_data_viewer(PlotlyHistogramView, data=data)"
   ]
  },
  {
   "cell_type": "markdown",
   "id": "26be6106-c61a-4d84-82e3-136ccfcee588",
   "metadata": {},
   "source": [
    "You can adjust whether there are gaps between the bars and, if so, what fraction of the plot they occupy"
   ]
  },
  {
   "cell_type": "code",
   "execution_count": 10,
   "id": "821b6397-80e2-443c-b6c3-50bf954abbf2",
   "metadata": {},
   "outputs": [],
   "source": [
    "histogram_viewer.state.gaps = True\n",
    "histogram_viewer.state.gap_fraction = 0.15"
   ]
  },
  {
   "cell_type": "markdown",
   "id": "588347a7-8f4d-4f47-9838-a4a2e4106b02",
   "metadata": {},
   "source": [
    "### Dotplot Viewer\n",
    "`glue-plotly` provides an alternate layer artist for the histogram viewer that displays data as a dotplot. While we don't offer a built-in viewer that uses this functionality, you can use the simple implementation below as a starting point if you're interested in using dotplots."
   ]
  },
  {
   "cell_type": "code",
   "execution_count": 103,
   "id": "9e25e894-bab1-4b21-a744-dcc5f9bc435d",
   "metadata": {},
   "outputs": [],
   "source": [
    "from echo import delay_callback\n",
    "from glue.config import viewer_tool\n",
    "from glue_plotly.viewers.common.tools import PlotlyHZoomMode\n",
    "\n",
    "@viewer_tool\n",
    "class BinningHZoom(PlotlyHZoomMode):\n",
    "    tool_id = \"plotly:binhzoom\"\n",
    "\n",
    "    def _on_selection(self, trace, points, selector):\n",
    "        xmin, xmax = selector.xrange\n",
    "        viewer_state = self.viewer.state\n",
    "        with self.viewer.figure.batch_update(), delay_callback(viewer_state, 'x_min', 'x_max'):\n",
    "            viewer_state.x_min = xmin\n",
    "            viewer_state.x_max = xmax\n",
    "        self.viewer.state.update_bins_to_view()"
   ]
  },
  {
   "cell_type": "code",
   "execution_count": 104,
   "id": "4f9d9ffe-ec2e-4d7f-aa8b-8b2a7524b9c2",
   "metadata": {},
   "outputs": [],
   "source": [
    "from glue_plotly.viewers.histogram.dotplot_layer_artist import PlotlyDotplotLayerArtist\n",
    "\n",
    "class DotplotViewer(PlotlyHistogramView):\n",
    "\n",
    "    tools = [\"plotly:binhzoom\"]\n",
    "    _data_artist_cls = PlotlyDotplotLayerArtist\n",
    "    _subset_artist_cls = PlotlyDotplotLayerArtist"
   ]
  },
  {
   "cell_type": "code",
   "execution_count": 105,
   "id": "174cd945-0744-43dc-b23e-bcef244a0bff",
   "metadata": {},
   "outputs": [
    {
     "data": {
      "application/vnd.jupyter.widget-view+json": {
       "model_id": "7c795aca0ca3468fabb86f8d090f4edf",
       "version_major": 2,
       "version_minor": 0
      },
      "text/plain": [
       "LayoutWidget(controls={'toolbar_selection_tools': BasicJupyterToolbar(template=Template(template='<template>\\n…"
      ]
     },
     "metadata": {},
     "output_type": "display_data"
    }
   ],
   "source": [
    "dotplot_viewer = app.new_data_viewer(DotplotViewer, data=data)"
   ]
  },
  {
   "cell_type": "code",
   "execution_count": 108,
   "id": "ed78d034-9ec2-4e56-a481-f7578f0f7e3a",
   "metadata": {},
   "outputs": [
    {
     "name": "stdout",
     "output_type": "stream",
     "text": [
      "27.638810597519733 33.05031003382187\n",
      "[30 31 29 31 30 33]\n",
      "6\n"
     ]
    }
   ],
   "source": [
    "# Check that the dotplot is displaying the correct values\n",
    "values = dotplot_viewer.layers[0].layer[dotplot_viewer.state.x_att]\n",
    "mask = (values >= dotplot_viewer.state.hist_x_min) & (values <= dotplot_viewer.state.hist_x_max)\n",
    "print(dotplot_viewer.state.hist_x_min, dotplot_viewer.state.hist_x_max)\n",
    "print(values[mask])\n",
    "print(len(values[mask]))"
   ]
  },
  {
   "cell_type": "code",
   "execution_count": null,
   "id": "5abe0321-b28a-4ff7-a19a-9093eb8efa93",
   "metadata": {},
   "outputs": [],
   "source": []
  }
 ],
 "metadata": {
  "kernelspec": {
   "display_name": "Python 3 (ipykernel)",
   "language": "python",
   "name": "python3"
  },
  "language_info": {
   "codemirror_mode": {
    "name": "ipython",
    "version": 3
   },
   "file_extension": ".py",
   "mimetype": "text/x-python",
   "name": "python",
   "nbconvert_exporter": "python",
   "pygments_lexer": "ipython3",
   "version": "3.11.8"
  }
 },
 "nbformat": 4,
 "nbformat_minor": 5
}
